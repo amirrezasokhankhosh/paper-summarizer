{
 "cells": [
  {
   "cell_type": "code",
   "execution_count": 20,
   "metadata": {},
   "outputs": [],
   "source": [
    "import cv2\n",
    "import json\n",
    "import easyocr\n",
    "import requests\n",
    "import numpy as np\n",
    "from detectron2 import model_zoo\n",
    "from detectron2.config import get_cfg\n",
    "from pdf2image import convert_from_path\n",
    "from detectron2.engine import DefaultPredictor\n"
   ]
  },
  {
   "cell_type": "code",
   "execution_count": 21,
   "metadata": {},
   "outputs": [],
   "source": [
    "paper_path = \"./paper.pdf\""
   ]
  },
  {
   "cell_type": "code",
   "execution_count": null,
   "metadata": {},
   "outputs": [],
   "source": [
    "server_url = \"http://130.179.29.185:8000/summarize\"\n",
    "frcnn_path = \"./faster-rcnn.pth\"\n",
    "frcnn_zoo_config_name = 'COCO-Detection/faster_rcnn_R_50_FPN_3x.yaml'\n",
    "prediction_score_threshold = 0.7\n",
    "class_labels = ['text', 'title', 'list', 'table', 'figure']"
   ]
  },
  {
   "cell_type": "code",
   "execution_count": 23,
   "metadata": {},
   "outputs": [],
   "source": [
    "def process_pages(path):\n",
    "    images = convert_from_path(path)\n",
    "    processed = []\n",
    "    for image in images:\n",
    "        image = cv2.cvtColor(np.array(image), cv2.COLOR_RGB2BGR)\n",
    "        processed.append(image)\n",
    "    return processed"
   ]
  },
  {
   "cell_type": "code",
   "execution_count": 24,
   "metadata": {},
   "outputs": [],
   "source": [
    "def get_detectron_model(model_zoo_config_name, model_path, prediction_score_threshold):\n",
    "    cfg = get_cfg()\n",
    "    cfg.merge_from_file(model_zoo.get_config_file(model_zoo_config_name))\n",
    "    cfg.MODEL.DEVICE = \"cpu\"\n",
    "    cfg.MODEL.WEIGHTS = model_path\n",
    "    cfg.MODEL.ROI_HEADS.SCORE_THRESH_TEST = prediction_score_threshold\n",
    "    cfg.MODEL.ROI_HEADS.NUM_CLASSES = 5\n",
    "    predictor = DefaultPredictor(cfg)\n",
    "    return predictor"
   ]
  },
  {
   "cell_type": "code",
   "execution_count": 25,
   "metadata": {},
   "outputs": [],
   "source": [
    "def detect_objects(image, detector):\n",
    "    outputs = detector(image)\n",
    "    return outputs[\"instances\"].to(\"cpu\")"
   ]
  },
  {
   "cell_type": "code",
   "execution_count": 26,
   "metadata": {},
   "outputs": [],
   "source": [
    "def extract_text(image, reader):\n",
    "    results = reader.readtext(image)\n",
    "    text = \" \".join([result[1] for result in results])\n",
    "    return text"
   ]
  },
  {
   "cell_type": "code",
   "execution_count": 27,
   "metadata": {},
   "outputs": [],
   "source": [
    "def process_page_sections(image, objects, reader):\n",
    "    page_text = \"\"\n",
    "    page_figures = []\n",
    "    pred_boxes = objects.pred_boxes\n",
    "    pred_classes = objects.pred_classes\n",
    "    for i in range(len(pred_boxes)):\n",
    "        box = pred_boxes[i].tensor.numpy()[0]\n",
    "        x1, y1, x2, y2 = box\n",
    "        box_image = image[int(y1):int(y2), int(x1):int(x2)]\n",
    "        if pred_classes[i] < 2:\n",
    "            text = extract_text(box_image, reader)\n",
    "            page_text += text + \"\\n\"\n",
    "        elif pred_classes[i] > 2:\n",
    "            page_figures.append(box_image)\n",
    "    return page_text, page_figures"
   ]
  },
  {
   "cell_type": "code",
   "execution_count": 28,
   "metadata": {},
   "outputs": [],
   "source": [
    "def get_paper_section(paper_path, detector, reader):\n",
    "    pages = process_pages(paper_path)\n",
    "    full_text = []\n",
    "    figures = []\n",
    "    figure_pages = []\n",
    "\n",
    "    for i in range(len(pages)):\n",
    "        objects = detect_objects(pages[i], detector)\n",
    "        page_text, page_figures = process_page_sections(pages[i], objects, reader)\n",
    "        full_text.append(page_text)\n",
    "        figures.extend(page_figures)\n",
    "        figure_pages.append(len(page_figures))\n",
    "\n",
    "    return full_text, figures, figure_pages"
   ]
  },
  {
   "cell_type": "code",
   "execution_count": 29,
   "metadata": {},
   "outputs": [],
   "source": [
    "def get_figure_files(figures, figure_pages):\n",
    "    files = []\n",
    "    figures = iter(figures)\n",
    "    for i in range(len(figure_pages)):\n",
    "        for j in range(0, figure_pages[i]):\n",
    "            _, buffer = cv2.imencode('.jpg', next(figures))\n",
    "            files.append((\"figures\", (f\"{i}_{j}.jpg\", buffer.tobytes(), \"image/jpeg\")))\n",
    "    return files"
   ]
  },
  {
   "cell_type": "code",
   "execution_count": 30,
   "metadata": {},
   "outputs": [],
   "source": [
    "def summarize_paper(paper_path, detector, reader):\n",
    "    full_text, figures, figure_pages = get_paper_section(paper_path, detector, reader)\n",
    "    files = get_figure_files(figures, figure_pages)\n",
    "    data = {\"full_text\" : json.dumps(full_text), \"figure_pages\" : json.dumps(figure_pages)}\n",
    "    response = requests.post(server_url, files=files, data=data)\n",
    "    return json.loads(response.content.decode())[\"summary\"]\n",
    "    "
   ]
  },
  {
   "cell_type": "code",
   "execution_count": 31,
   "metadata": {},
   "outputs": [
    {
     "name": "stderr",
     "output_type": "stream",
     "text": [
      "/Users/amirrezasokhankhosh/mambaforge/envs/data-science/lib/python3.10/site-packages/fvcore/common/checkpoint.py:252: FutureWarning: You are using `torch.load` with `weights_only=False` (the current default value), which uses the default pickle module implicitly. It is possible to construct malicious pickle data which will execute arbitrary code during unpickling (See https://github.com/pytorch/pytorch/blob/main/SECURITY.md#untrusted-models for more details). In a future release, the default value for `weights_only` will be flipped to `True`. This limits the functions that could be executed during unpickling. Arbitrary objects will no longer be allowed to be loaded via this mode unless they are explicitly allowlisted by the user via `torch.serialization.add_safe_globals`. We recommend you start setting `weights_only=True` for any use case where you don't have full control of the loaded file. Please open an issue on GitHub for any issues related to this experimental feature.\n",
      "  return torch.load(f, map_location=torch.device(\"cpu\"))\n"
     ]
    }
   ],
   "source": [
    "detector = get_detectron_model(frcnn_zoo_config_name, frcnn_path, prediction_score_threshold)\n",
    "reader = easyocr.Reader(['en'])"
   ]
  },
  {
   "cell_type": "code",
   "execution_count": 32,
   "metadata": {},
   "outputs": [],
   "source": [
    "summary = summarize_paper(paper_path, detector, reader)"
   ]
  },
  {
   "cell_type": "code",
   "execution_count": 33,
   "metadata": {},
   "outputs": [],
   "source": [
    "with open(\"summary.md\", \"w\") as file:\n",
    "    file.write(summary)\n"
   ]
  },
  {
   "cell_type": "code",
   "execution_count": 34,
   "metadata": {},
   "outputs": [],
   "source": [
    "!pandoc summary.md -o summary.pdf"
   ]
  }
 ],
 "metadata": {
  "kernelspec": {
   "display_name": "data-science",
   "language": "python",
   "name": "python3"
  },
  "language_info": {
   "codemirror_mode": {
    "name": "ipython",
    "version": 3
   },
   "file_extension": ".py",
   "mimetype": "text/x-python",
   "name": "python",
   "nbconvert_exporter": "python",
   "pygments_lexer": "ipython3",
   "version": "3.10.6"
  }
 },
 "nbformat": 4,
 "nbformat_minor": 2
}
